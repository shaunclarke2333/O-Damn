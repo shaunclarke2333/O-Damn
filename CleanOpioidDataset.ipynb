{
 "cells": [
  {
   "cell_type": "markdown",
   "metadata": {},
   "source": [
    "Import libraries"
   ]
  },
  {
   "cell_type": "code",
   "execution_count": 1,
   "metadata": {},
   "outputs": [],
   "source": [
    "import pandas as pd\n",
    "import numpy as np"
   ]
  },
  {
   "cell_type": "code",
   "execution_count": 2,
   "metadata": {},
   "outputs": [],
   "source": [
    "opioid_ds = \"Accidental_Drug_Related_Deaths_2012-2018.csv\"\n",
    "opioid_base_df = pd.read_csv(opioid_ds)\n",
    "\n",
    "# pd.read_csv(filename, nrows=5, header=None, sep='\\t', comment='#', na_values=[\"\"])"
   ]
  },
  {
   "cell_type": "code",
   "execution_count": 3,
   "metadata": {},
   "outputs": [
    {
     "data": {
      "text/html": [
       "<div>\n",
       "<style scoped>\n",
       "    .dataframe tbody tr th:only-of-type {\n",
       "        vertical-align: middle;\n",
       "    }\n",
       "\n",
       "    .dataframe tbody tr th {\n",
       "        vertical-align: top;\n",
       "    }\n",
       "\n",
       "    .dataframe thead th {\n",
       "        text-align: right;\n",
       "    }\n",
       "</style>\n",
       "<table border=\"1\" class=\"dataframe\">\n",
       "  <thead>\n",
       "    <tr style=\"text-align: right;\">\n",
       "      <th></th>\n",
       "      <th>ID</th>\n",
       "      <th>Date</th>\n",
       "      <th>DateType</th>\n",
       "      <th>Age</th>\n",
       "      <th>Sex</th>\n",
       "      <th>Race</th>\n",
       "      <th>ResidenceCity</th>\n",
       "      <th>ResidenceCounty</th>\n",
       "      <th>ResidenceState</th>\n",
       "      <th>DeathCity</th>\n",
       "      <th>...</th>\n",
       "      <th>Tramad</th>\n",
       "      <th>Morphine_NotHeroin</th>\n",
       "      <th>Hydromorphone</th>\n",
       "      <th>Other</th>\n",
       "      <th>OpiateNOS</th>\n",
       "      <th>AnyOpioid</th>\n",
       "      <th>MannerofDeath</th>\n",
       "      <th>DeathCityGeo</th>\n",
       "      <th>ResidenceCityGeo</th>\n",
       "      <th>InjuryCityGeo</th>\n",
       "    </tr>\n",
       "  </thead>\n",
       "  <tbody>\n",
       "    <tr>\n",
       "      <th>0</th>\n",
       "      <td>17-0206</td>\n",
       "      <td>3/10/17 0:00</td>\n",
       "      <td>DateReported</td>\n",
       "      <td>51.0</td>\n",
       "      <td>Male</td>\n",
       "      <td>White</td>\n",
       "      <td>NEW LONDON</td>\n",
       "      <td>NEW LONDON</td>\n",
       "      <td>CT</td>\n",
       "      <td>6340</td>\n",
       "      <td>...</td>\n",
       "      <td>NaN</td>\n",
       "      <td>NaN</td>\n",
       "      <td>NaN</td>\n",
       "      <td>NaN</td>\n",
       "      <td>NaN</td>\n",
       "      <td>NaN</td>\n",
       "      <td>Accident</td>\n",
       "      <td>06340, CT\\n(41.077925, -73.216497)</td>\n",
       "      <td>NEW LONDON, CT\\n(41.355167, -72.099561)</td>\n",
       "      <td>GROTON, CT\\n(41.343693, -72.07877)</td>\n",
       "    </tr>\n",
       "    <tr>\n",
       "      <th>1</th>\n",
       "      <td>13-0102</td>\n",
       "      <td>3/21/13 0:00</td>\n",
       "      <td>DateofDeath</td>\n",
       "      <td>48.0</td>\n",
       "      <td>Male</td>\n",
       "      <td>Black</td>\n",
       "      <td>NORWALK</td>\n",
       "      <td>NaN</td>\n",
       "      <td>NaN</td>\n",
       "      <td>NORWALK</td>\n",
       "      <td>...</td>\n",
       "      <td>NaN</td>\n",
       "      <td>NaN</td>\n",
       "      <td>NaN</td>\n",
       "      <td>NaN</td>\n",
       "      <td>NaN</td>\n",
       "      <td>NaN</td>\n",
       "      <td>Accident</td>\n",
       "      <td>Norwalk, CT\\n(41.11805, -73.412906)</td>\n",
       "      <td>NORWALK, CT\\n(41.11805, -73.412906)</td>\n",
       "      <td>CT\\n(41.575155, -72.738288)</td>\n",
       "    </tr>\n",
       "    <tr>\n",
       "      <th>2</th>\n",
       "      <td>16-0537</td>\n",
       "      <td>8/7/16 0:00</td>\n",
       "      <td>DateofDeath</td>\n",
       "      <td>44.0</td>\n",
       "      <td>Male</td>\n",
       "      <td>White</td>\n",
       "      <td>ANSONIA</td>\n",
       "      <td>NEW HAVEN</td>\n",
       "      <td>CT</td>\n",
       "      <td>ANSONIA</td>\n",
       "      <td>...</td>\n",
       "      <td>NaN</td>\n",
       "      <td>NaN</td>\n",
       "      <td>NaN</td>\n",
       "      <td>NaN</td>\n",
       "      <td>NaN</td>\n",
       "      <td>Y</td>\n",
       "      <td>Accident</td>\n",
       "      <td>ANSONIA, CT\\n(41.34198, -73.078296)</td>\n",
       "      <td>ANSONIA, CT\\n(41.34198, -73.078296)</td>\n",
       "      <td>ANSONIA, CT\\n(41.34198, -73.078296)</td>\n",
       "    </tr>\n",
       "    <tr>\n",
       "      <th>3</th>\n",
       "      <td>16-0371</td>\n",
       "      <td>6/3/16 0:00</td>\n",
       "      <td>DateofDeath</td>\n",
       "      <td>57.0</td>\n",
       "      <td>Female</td>\n",
       "      <td>White</td>\n",
       "      <td>ANSONIA</td>\n",
       "      <td>NEW HAVEN</td>\n",
       "      <td>CT</td>\n",
       "      <td>ANSONIA</td>\n",
       "      <td>...</td>\n",
       "      <td>NaN</td>\n",
       "      <td>NaN</td>\n",
       "      <td>NaN</td>\n",
       "      <td>NaN</td>\n",
       "      <td>NaN</td>\n",
       "      <td>Y</td>\n",
       "      <td>Accident</td>\n",
       "      <td>ANSONIA, CT\\n(41.34198, -73.078296)</td>\n",
       "      <td>ANSONIA, CT\\n(41.34198, -73.078296)</td>\n",
       "      <td>ANSONIA, CT\\n(41.34198, -73.078296)</td>\n",
       "    </tr>\n",
       "    <tr>\n",
       "      <th>4</th>\n",
       "      <td>13-0052</td>\n",
       "      <td>2/13/13 0:00</td>\n",
       "      <td>DateofDeath</td>\n",
       "      <td>22.0</td>\n",
       "      <td>Male</td>\n",
       "      <td>Asian, Other</td>\n",
       "      <td>FLUSHING</td>\n",
       "      <td>QUEENS</td>\n",
       "      <td>NaN</td>\n",
       "      <td>GREENWICH</td>\n",
       "      <td>...</td>\n",
       "      <td>NaN</td>\n",
       "      <td>NaN</td>\n",
       "      <td>NaN</td>\n",
       "      <td>NaN</td>\n",
       "      <td>NaN</td>\n",
       "      <td>NaN</td>\n",
       "      <td>Accident</td>\n",
       "      <td>Greenwich, CT\\n(41.026526, -73.628549)</td>\n",
       "      <td>NaN</td>\n",
       "      <td>CT\\n(41.575155, -72.738288)</td>\n",
       "    </tr>\n",
       "  </tbody>\n",
       "</table>\n",
       "<p>5 rows × 41 columns</p>\n",
       "</div>"
      ],
      "text/plain": [
       "        ID          Date      DateType   Age     Sex          Race  \\\n",
       "0  17-0206  3/10/17 0:00  DateReported  51.0    Male         White   \n",
       "1  13-0102  3/21/13 0:00   DateofDeath  48.0    Male         Black   \n",
       "2  16-0537   8/7/16 0:00   DateofDeath  44.0    Male         White   \n",
       "3  16-0371   6/3/16 0:00   DateofDeath  57.0  Female         White   \n",
       "4  13-0052  2/13/13 0:00   DateofDeath  22.0    Male  Asian, Other   \n",
       "\n",
       "  ResidenceCity ResidenceCounty ResidenceState  DeathCity  ... Tramad  \\\n",
       "0    NEW LONDON      NEW LONDON             CT       6340  ...    NaN   \n",
       "1       NORWALK             NaN            NaN    NORWALK  ...    NaN   \n",
       "2       ANSONIA       NEW HAVEN             CT    ANSONIA  ...    NaN   \n",
       "3       ANSONIA       NEW HAVEN             CT    ANSONIA  ...    NaN   \n",
       "4      FLUSHING          QUEENS            NaN  GREENWICH  ...    NaN   \n",
       "\n",
       "  Morphine_NotHeroin Hydromorphone Other OpiateNOS AnyOpioid MannerofDeath  \\\n",
       "0                NaN           NaN   NaN       NaN       NaN      Accident   \n",
       "1                NaN           NaN   NaN       NaN       NaN      Accident   \n",
       "2                NaN           NaN   NaN       NaN         Y      Accident   \n",
       "3                NaN           NaN   NaN       NaN         Y      Accident   \n",
       "4                NaN           NaN   NaN       NaN       NaN      Accident   \n",
       "\n",
       "                             DeathCityGeo  \\\n",
       "0      06340, CT\\n(41.077925, -73.216497)   \n",
       "1     Norwalk, CT\\n(41.11805, -73.412906)   \n",
       "2     ANSONIA, CT\\n(41.34198, -73.078296)   \n",
       "3     ANSONIA, CT\\n(41.34198, -73.078296)   \n",
       "4  Greenwich, CT\\n(41.026526, -73.628549)   \n",
       "\n",
       "                          ResidenceCityGeo  \\\n",
       "0  NEW LONDON, CT\\n(41.355167, -72.099561)   \n",
       "1      NORWALK, CT\\n(41.11805, -73.412906)   \n",
       "2      ANSONIA, CT\\n(41.34198, -73.078296)   \n",
       "3      ANSONIA, CT\\n(41.34198, -73.078296)   \n",
       "4                                      NaN   \n",
       "\n",
       "                         InjuryCityGeo  \n",
       "0   GROTON, CT\\n(41.343693, -72.07877)  \n",
       "1          CT\\n(41.575155, -72.738288)  \n",
       "2  ANSONIA, CT\\n(41.34198, -73.078296)  \n",
       "3  ANSONIA, CT\\n(41.34198, -73.078296)  \n",
       "4          CT\\n(41.575155, -72.738288)  \n",
       "\n",
       "[5 rows x 41 columns]"
      ]
     },
     "execution_count": 3,
     "metadata": {},
     "output_type": "execute_result"
    }
   ],
   "source": [
    "opioid_base_df.head()"
   ]
  },
  {
   "cell_type": "markdown",
   "metadata": {},
   "source": [
    "Start removing inconsistent data"
   ]
  },
  {
   "cell_type": "code",
   "execution_count": 4,
   "metadata": {
    "scrolled": true
   },
   "outputs": [
    {
     "name": "stdout",
     "output_type": "stream",
     "text": [
      "        ID           Date      DateType   Age     Sex      DeathCity  \\\n",
      "0  17-0206   3/10/17 0:00  DateReported  51.0    Male           6340   \n",
      "1  13-0102   3/21/13 0:00   DateofDeath  48.0    Male        NORWALK   \n",
      "2  16-0537    8/7/16 0:00   DateofDeath  44.0    Male        ANSONIA   \n",
      "3  16-0371    6/3/16 0:00   DateofDeath  57.0  Female        ANSONIA   \n",
      "4  13-0052   2/13/13 0:00   DateofDeath  22.0    Male      GREENWICH   \n",
      "5  14-0277   6/29/14 0:00   DateofDeath  23.0    Male        BRISTOL   \n",
      "6  12-0205   8/12/12 0:00   DateofDeath  21.0  Female  WEST HARTFORD   \n",
      "7  13-0404  11/10/13 0:00   DateofDeath  40.0  Female      NEW HAVEN   \n",
      "8  12-0107   4/25/12 0:00   DateofDeath  40.0    Male  EAST HARTFORD   \n",
      "9  13-0161   5/15/13 0:00   DateofDeath  50.0    Male      MONTVILLE   \n",
      "\n",
      "  DeathCounty                                DeathCityGeo  \n",
      "0         NaN          06340, CT\\n(41.077925, -73.216497)  \n",
      "1   FAIRFIELD         Norwalk, CT\\n(41.11805, -73.412906)  \n",
      "2         NaN         ANSONIA, CT\\n(41.34198, -73.078296)  \n",
      "3         NaN         ANSONIA, CT\\n(41.34198, -73.078296)  \n",
      "4   FAIRFIELD      Greenwich, CT\\n(41.026526, -73.628549)  \n",
      "5    HARTFORD        BRISTOL, CT\\n(41.673037, -72.945791)  \n",
      "6    HARTFORD  WEST HARTFORD, CT\\n(41.762008, -72.741807)  \n",
      "7   NEW HAVEN      New Haven, CT\\n(41.308252, -72.924161)  \n",
      "8    HARTFORD  EAST HARTFORD, CT\\n(41.769319, -72.643785)  \n",
      "9  NEW LONDON       MONTVILLE, CT\\n(41.45303, -72.136336)  \n"
     ]
    }
   ],
   "source": [
    "print(opioid_base_df.iloc[0:10,[0,1,2,3,4,9,10,-3]])"
   ]
  },
  {
   "cell_type": "code",
   "execution_count": 5,
   "metadata": {},
   "outputs": [
    {
     "data": {
      "text/plain": [
       "0      BOROUGH\n",
       "1      NORWALK\n",
       "2      ANSONIA\n",
       "3      ANSONIA\n",
       "4    GREENWICH\n",
       "Name: DeathCity, dtype: object"
      ]
     },
     "execution_count": 5,
     "metadata": {},
     "output_type": "execute_result"
    }
   ],
   "source": [
    "zip_elim = opioid_base_df['DeathCity'].replace('6340','BOROUGH')\n",
    "zip_elim.head()"
   ]
  },
  {
   "cell_type": "code",
   "execution_count": 6,
   "metadata": {},
   "outputs": [
    {
     "data": {
      "text/plain": [
       "0      BOROUGH, CT\\n(41.077925, -73.216497)\n",
       "1       Norwalk, CT\\n(41.11805, -73.412906)\n",
       "2       ANSONIA, CT\\n(41.34198, -73.078296)\n",
       "3       ANSONIA, CT\\n(41.34198, -73.078296)\n",
       "4    Greenwich, CT\\n(41.026526, -73.628549)\n",
       "Name: DeathCityGeo, dtype: object"
      ]
     },
     "execution_count": 6,
     "metadata": {},
     "output_type": "execute_result"
    }
   ],
   "source": [
    "# df.replace(to_replace=r'^ba.$', value='new', regex=True)\n",
    "zipDCG_elim = opioid_base_df['DeathCityGeo'].replace('06340, CT\\n(41.077925, -73.216497)', 'BOROUGH, CT\\n(41.077925, -73.216497)')\n",
    "zipDCG_elim.head()"
   ]
  },
  {
   "cell_type": "code",
   "execution_count": 7,
   "metadata": {},
   "outputs": [
    {
     "name": "stdout",
     "output_type": "stream",
     "text": [
      "0      BOROUGH\n",
      "1      NORWALK\n",
      "2      ANSONIA\n",
      "3      ANSONIA\n",
      "4    GREENWICH\n",
      "Name: DeathCity, dtype: object\n",
      "0      BOROUGH, CT\\n(41.077925, -73.216497)\n",
      "1       Norwalk, CT\\n(41.11805, -73.412906)\n",
      "2       ANSONIA, CT\\n(41.34198, -73.078296)\n",
      "3       ANSONIA, CT\\n(41.34198, -73.078296)\n",
      "4    Greenwich, CT\\n(41.026526, -73.628549)\n",
      "Name: DeathCityGeo, dtype: object\n"
     ]
    }
   ],
   "source": [
    "opioid_base_df['DeathCity'] = opioid_base_df['DeathCity'].replace('6340','BOROUGH')\n",
    "print(opioid_base_df['DeathCity'].head())\n",
    "opioid_base_df['DeathCityGeo'] = opioid_base_df['DeathCityGeo'].replace('06340, CT\\n(41.077925, -73.216497)', 'BOROUGH, CT\\n(41.077925, -73.216497)')\n",
    "print(opioid_base_df['DeathCityGeo'].head())"
   ]
  },
  {
   "cell_type": "code",
   "execution_count": 8,
   "metadata": {},
   "outputs": [
    {
     "name": "stdout",
     "output_type": "stream",
     "text": [
      "nan\n"
     ]
    }
   ],
   "source": [
    "# opioid_base_df['DeathCounty'] = opioid_base_df['DeathCounty',0]\n",
    "print(opioid_base_df['DeathCounty'][0])"
   ]
  },
  {
   "cell_type": "code",
   "execution_count": 9,
   "metadata": {},
   "outputs": [
    {
     "name": "stdout",
     "output_type": "stream",
     "text": [
      "0    NEW LONDON\n",
      "1     FAIRFIELD\n",
      "2           NaN\n",
      "Name: DeathCounty, dtype: object\n"
     ]
    },
    {
     "name": "stderr",
     "output_type": "stream",
     "text": [
      "/Users/ryanbaxter/anaconda3/envs/PythonData/lib/python3.6/site-packages/ipykernel_launcher.py:1: SettingWithCopyWarning: \n",
      "A value is trying to be set on a copy of a slice from a DataFrame\n",
      "\n",
      "See the caveats in the documentation: http://pandas.pydata.org/pandas-docs/stable/indexing.html#indexing-view-versus-copy\n",
      "  \"\"\"Entry point for launching an IPython kernel.\n"
     ]
    }
   ],
   "source": [
    "opioid_base_df['DeathCounty'][0] = 'NEW LONDON'\n",
    "# opioid_base_df['DeathCounty'][0] = opioid_base_df['DeathCounty'][0].replace('NEW LONDON')\n",
    "print(opioid_base_df['DeathCounty'].head(3))"
   ]
  },
  {
   "cell_type": "code",
   "execution_count": 10,
   "metadata": {
    "scrolled": true
   },
   "outputs": [
    {
     "name": "stdout",
     "output_type": "stream",
     "text": [
      "        ID           Date      DateType   Age     Sex      DeathCity  \\\n",
      "0  17-0206   3/10/17 0:00  DateReported  51.0    Male        BOROUGH   \n",
      "1  13-0102   3/21/13 0:00   DateofDeath  48.0    Male        NORWALK   \n",
      "2  16-0537    8/7/16 0:00   DateofDeath  44.0    Male        ANSONIA   \n",
      "3  16-0371    6/3/16 0:00   DateofDeath  57.0  Female        ANSONIA   \n",
      "4  13-0052   2/13/13 0:00   DateofDeath  22.0    Male      GREENWICH   \n",
      "5  14-0277   6/29/14 0:00   DateofDeath  23.0    Male        BRISTOL   \n",
      "6  12-0205   8/12/12 0:00   DateofDeath  21.0  Female  WEST HARTFORD   \n",
      "7  13-0404  11/10/13 0:00   DateofDeath  40.0  Female      NEW HAVEN   \n",
      "8  12-0107   4/25/12 0:00   DateofDeath  40.0    Male  EAST HARTFORD   \n",
      "9  13-0161   5/15/13 0:00   DateofDeath  50.0    Male      MONTVILLE   \n",
      "\n",
      "  DeathCounty                                DeathCityGeo  \n",
      "0  NEW LONDON        BOROUGH, CT\\n(41.077925, -73.216497)  \n",
      "1   FAIRFIELD         Norwalk, CT\\n(41.11805, -73.412906)  \n",
      "2         NaN         ANSONIA, CT\\n(41.34198, -73.078296)  \n",
      "3         NaN         ANSONIA, CT\\n(41.34198, -73.078296)  \n",
      "4   FAIRFIELD      Greenwich, CT\\n(41.026526, -73.628549)  \n",
      "5    HARTFORD        BRISTOL, CT\\n(41.673037, -72.945791)  \n",
      "6    HARTFORD  WEST HARTFORD, CT\\n(41.762008, -72.741807)  \n",
      "7   NEW HAVEN      New Haven, CT\\n(41.308252, -72.924161)  \n",
      "8    HARTFORD  EAST HARTFORD, CT\\n(41.769319, -72.643785)  \n",
      "9  NEW LONDON       MONTVILLE, CT\\n(41.45303, -72.136336)  \n"
     ]
    }
   ],
   "source": [
    "print(opioid_base_df.iloc[0:10,[0,1,2,3,4,9,10,-3]])"
   ]
  },
  {
   "cell_type": "markdown",
   "metadata": {},
   "source": [
    "Delete blank rows in this order: 1) Date, 2) DateType, and 3) Age"
   ]
  },
  {
   "cell_type": "code",
   "execution_count": 11,
   "metadata": {},
   "outputs": [],
   "source": [
    "# template df[df.Last_Name.notnull()]\n",
    "opioid_rowdelete_date = opioid_base_df[opioid_base_df.Date.notnull()]"
   ]
  },
  {
   "cell_type": "markdown",
   "metadata": {},
   "source": [
    "Validation check"
   ]
  },
  {
   "cell_type": "code",
   "execution_count": 12,
   "metadata": {},
   "outputs": [
    {
     "name": "stdout",
     "output_type": "stream",
     "text": [
      "0       False\n",
      "1       False\n",
      "2       False\n",
      "3       False\n",
      "4       False\n",
      "5       False\n",
      "6       False\n",
      "7       False\n",
      "8       False\n",
      "9       False\n",
      "10      False\n",
      "11      False\n",
      "12      False\n",
      "13      False\n",
      "14      False\n",
      "15      False\n",
      "16      False\n",
      "17      False\n",
      "18      False\n",
      "19      False\n",
      "20      False\n",
      "21      False\n",
      "22      False\n",
      "23      False\n",
      "24      False\n",
      "25      False\n",
      "26      False\n",
      "27      False\n",
      "28      False\n",
      "29      False\n",
      "        ...  \n",
      "5073    False\n",
      "5074    False\n",
      "5075    False\n",
      "5076    False\n",
      "5077    False\n",
      "5078    False\n",
      "5079    False\n",
      "5080    False\n",
      "5081    False\n",
      "5082    False\n",
      "5083    False\n",
      "5084    False\n",
      "5085    False\n",
      "5086    False\n",
      "5087    False\n",
      "5088    False\n",
      "5089    False\n",
      "5090    False\n",
      "5091    False\n",
      "5092    False\n",
      "5094    False\n",
      "5095    False\n",
      "5096    False\n",
      "5097    False\n",
      "5098    False\n",
      "5099    False\n",
      "5100    False\n",
      "5101    False\n",
      "5102    False\n",
      "5104    False\n",
      "Name: Date, Length: 5103, dtype: bool\n"
     ]
    }
   ],
   "source": [
    "print(opioid_rowdelete_date.Date.isnull() == True)"
   ]
  },
  {
   "cell_type": "code",
   "execution_count": 13,
   "metadata": {},
   "outputs": [],
   "source": [
    "# template df[df.Last_Name.notnull()]\n",
    "opioid_rowdelete_datetype = opioid_rowdelete_date[opioid_rowdelete_date.DateType.notnull()]"
   ]
  },
  {
   "cell_type": "markdown",
   "metadata": {},
   "source": [
    "Validation check"
   ]
  },
  {
   "cell_type": "code",
   "execution_count": 14,
   "metadata": {
    "scrolled": true
   },
   "outputs": [
    {
     "name": "stdout",
     "output_type": "stream",
     "text": [
      "0       False\n",
      "1       False\n",
      "2       False\n",
      "3       False\n",
      "4       False\n",
      "5       False\n",
      "6       False\n",
      "7       False\n",
      "8       False\n",
      "9       False\n",
      "10      False\n",
      "11      False\n",
      "12      False\n",
      "13      False\n",
      "14      False\n",
      "15      False\n",
      "16      False\n",
      "17      False\n",
      "18      False\n",
      "19      False\n",
      "20      False\n",
      "21      False\n",
      "22      False\n",
      "23      False\n",
      "24      False\n",
      "25      False\n",
      "26      False\n",
      "27      False\n",
      "28      False\n",
      "29      False\n",
      "        ...  \n",
      "5073    False\n",
      "5074    False\n",
      "5075    False\n",
      "5076    False\n",
      "5077    False\n",
      "5078    False\n",
      "5079    False\n",
      "5080    False\n",
      "5081    False\n",
      "5082    False\n",
      "5083    False\n",
      "5084    False\n",
      "5085    False\n",
      "5086    False\n",
      "5087    False\n",
      "5088    False\n",
      "5089    False\n",
      "5090    False\n",
      "5091    False\n",
      "5092    False\n",
      "5094    False\n",
      "5095    False\n",
      "5096    False\n",
      "5097    False\n",
      "5098    False\n",
      "5099    False\n",
      "5100    False\n",
      "5101    False\n",
      "5102    False\n",
      "5104    False\n",
      "Name: DateType, Length: 5103, dtype: bool\n"
     ]
    }
   ],
   "source": [
    "print(opioid_rowdelete_datetype.DateType.isnull() == True)"
   ]
  },
  {
   "cell_type": "code",
   "execution_count": 15,
   "metadata": {},
   "outputs": [],
   "source": [
    "opioid_rowdelete_age = opioid_rowdelete_datetype[opioid_rowdelete_datetype.Age.notnull()]"
   ]
  },
  {
   "cell_type": "markdown",
   "metadata": {},
   "source": [
    "Validation check"
   ]
  },
  {
   "cell_type": "code",
   "execution_count": 16,
   "metadata": {},
   "outputs": [
    {
     "name": "stdout",
     "output_type": "stream",
     "text": [
      "0       False\n",
      "1       False\n",
      "2       False\n",
      "3       False\n",
      "4       False\n",
      "5       False\n",
      "6       False\n",
      "7       False\n",
      "8       False\n",
      "9       False\n",
      "10      False\n",
      "11      False\n",
      "12      False\n",
      "13      False\n",
      "14      False\n",
      "15      False\n",
      "16      False\n",
      "17      False\n",
      "18      False\n",
      "19      False\n",
      "20      False\n",
      "21      False\n",
      "22      False\n",
      "23      False\n",
      "24      False\n",
      "25      False\n",
      "26      False\n",
      "27      False\n",
      "28      False\n",
      "29      False\n",
      "        ...  \n",
      "5071    False\n",
      "5072    False\n",
      "5073    False\n",
      "5074    False\n",
      "5075    False\n",
      "5076    False\n",
      "5077    False\n",
      "5078    False\n",
      "5079    False\n",
      "5080    False\n",
      "5081    False\n",
      "5082    False\n",
      "5083    False\n",
      "5084    False\n",
      "5085    False\n",
      "5086    False\n",
      "5087    False\n",
      "5088    False\n",
      "5089    False\n",
      "5090    False\n",
      "5092    False\n",
      "5094    False\n",
      "5095    False\n",
      "5096    False\n",
      "5097    False\n",
      "5098    False\n",
      "5099    False\n",
      "5100    False\n",
      "5101    False\n",
      "5102    False\n",
      "Name: Age, Length: 5101, dtype: bool\n"
     ]
    }
   ],
   "source": [
    "print(opioid_rowdelete_age.Age.isnull() == True)"
   ]
  },
  {
   "cell_type": "code",
   "execution_count": 17,
   "metadata": {},
   "outputs": [
    {
     "name": "stdout",
     "output_type": "stream",
     "text": [
      "0       False\n",
      "1       False\n",
      "2       False\n",
      "3       False\n",
      "4       False\n",
      "5       False\n",
      "6       False\n",
      "7       False\n",
      "8       False\n",
      "9       False\n",
      "10      False\n",
      "11      False\n",
      "12      False\n",
      "13      False\n",
      "14      False\n",
      "15      False\n",
      "16      False\n",
      "17      False\n",
      "18      False\n",
      "19      False\n",
      "20      False\n",
      "21      False\n",
      "22      False\n",
      "23      False\n",
      "24      False\n",
      "25      False\n",
      "26      False\n",
      "27      False\n",
      "28      False\n",
      "29      False\n",
      "        ...  \n",
      "5071    False\n",
      "5072    False\n",
      "5073    False\n",
      "5074    False\n",
      "5075    False\n",
      "5076    False\n",
      "5077    False\n",
      "5078    False\n",
      "5079    False\n",
      "5080    False\n",
      "5081    False\n",
      "5082    False\n",
      "5083    False\n",
      "5084    False\n",
      "5085    False\n",
      "5086    False\n",
      "5087    False\n",
      "5088    False\n",
      "5089    False\n",
      "5090    False\n",
      "5092    False\n",
      "5094    False\n",
      "5095    False\n",
      "5096    False\n",
      "5097    False\n",
      "5098    False\n",
      "5099    False\n",
      "5100    False\n",
      "5101    False\n",
      "5102    False\n",
      "Name: Sex, Length: 5101, dtype: bool\n"
     ]
    }
   ],
   "source": [
    "print(opioid_rowdelete_age.Sex.isnull() == True)"
   ]
  },
  {
   "cell_type": "markdown",
   "metadata": {},
   "source": [
    "Change blanks (NaN) to \"Unknown\""
   ]
  },
  {
   "cell_type": "code",
   "execution_count": 18,
   "metadata": {},
   "outputs": [
    {
     "data": {
      "text/plain": [
       "3"
      ]
     },
     "execution_count": 18,
     "metadata": {},
     "output_type": "execute_result"
    }
   ],
   "source": [
    "# template df['w'].nunique()\n",
    "opioid_rowdelete_age['Sex'].nunique()"
   ]
  },
  {
   "cell_type": "code",
   "execution_count": 19,
   "metadata": {},
   "outputs": [
    {
     "name": "stdout",
     "output_type": "stream",
     "text": [
      "[nan, 'Unknown', nan, nan]\n"
     ]
    }
   ],
   "source": [
    "# for loop hits on sex to find NaN\n",
    "sex_hit = []\n",
    "for value in opioid_rowdelete_age['Sex']:\n",
    "    if ((value != 'Male') & (value != 'Female')):\n",
    "        sex_hit.append(value)\n",
    "print(sex_hit)"
   ]
  },
  {
   "cell_type": "markdown",
   "metadata": {},
   "source": [
    "Change sex equals NaN to unknown, so that data points are not lost"
   ]
  },
  {
   "cell_type": "code",
   "execution_count": 20,
   "metadata": {},
   "outputs": [
    {
     "name": "stderr",
     "output_type": "stream",
     "text": [
      "/Users/ryanbaxter/anaconda3/envs/PythonData/lib/python3.6/site-packages/ipykernel_launcher.py:2: SettingWithCopyWarning: \n",
      "A value is trying to be set on a copy of a slice from a DataFrame.\n",
      "Try using .loc[row_indexer,col_indexer] = value instead\n",
      "\n",
      "See the caveats in the documentation: http://pandas.pydata.org/pandas-docs/stable/indexing.html#indexing-view-versus-copy\n",
      "  \n"
     ]
    }
   ],
   "source": [
    "opioid_rowchange_sex = opioid_rowdelete_age \n",
    "opioid_rowchange_sex['Sex'] = opioid_rowchange_sex['Sex'].fillna('Unknown')"
   ]
  },
  {
   "cell_type": "code",
   "execution_count": 21,
   "metadata": {},
   "outputs": [
    {
     "name": "stdout",
     "output_type": "stream",
     "text": [
      "['Unknown', 'Unknown', 'Unknown', 'Unknown']\n"
     ]
    }
   ],
   "source": [
    "sex_hit2 = []\n",
    "for value in opioid_rowchange_sex['Sex']:\n",
    "    if ((value != 'Male') & (value != 'Female')):\n",
    "        sex_hit2.append(value)\n",
    "print(sex_hit2)"
   ]
  },
  {
   "cell_type": "markdown",
   "metadata": {},
   "source": [
    "Race blanks change to \"Unknown\""
   ]
  },
  {
   "cell_type": "code",
   "execution_count": 22,
   "metadata": {},
   "outputs": [
    {
     "name": "stderr",
     "output_type": "stream",
     "text": [
      "/Users/ryanbaxter/anaconda3/envs/PythonData/lib/python3.6/site-packages/ipykernel_launcher.py:2: SettingWithCopyWarning: \n",
      "A value is trying to be set on a copy of a slice from a DataFrame.\n",
      "Try using .loc[row_indexer,col_indexer] = value instead\n",
      "\n",
      "See the caveats in the documentation: http://pandas.pydata.org/pandas-docs/stable/indexing.html#indexing-view-versus-copy\n",
      "  \n"
     ]
    }
   ],
   "source": [
    "opioid_rowchange_race = opioid_rowchange_sex \n",
    "opioid_rowchange_race['Race'] = opioid_rowchange_race['Race'].fillna('Unknown')"
   ]
  },
  {
   "cell_type": "code",
   "execution_count": 23,
   "metadata": {},
   "outputs": [],
   "source": [
    "# Delete rows with blank DeathCity\n",
    "opioid_deleteblank_DeathCity = opioid_rowchange_race[opioid_rowchange_race.DeathCity.notnull()]"
   ]
  },
  {
   "cell_type": "code",
   "execution_count": 24,
   "metadata": {},
   "outputs": [
    {
     "data": {
      "text/plain": [
       "5100"
      ]
     },
     "execution_count": 24,
     "metadata": {},
     "output_type": "execute_result"
    }
   ],
   "source": [
    "len(opioid_deleteblank_DeathCity)"
   ]
  },
  {
   "cell_type": "code",
   "execution_count": 25,
   "metadata": {},
   "outputs": [],
   "source": [
    "# Delete rows with blank DeathCounty\n",
    "opioid_deleteblank_DeathCounty = opioid_deleteblank_DeathCity[opioid_deleteblank_DeathCity.DeathCounty.notnull()]"
   ]
  },
  {
   "cell_type": "code",
   "execution_count": 26,
   "metadata": {},
   "outputs": [
    {
     "data": {
      "text/plain": [
       "4006"
      ]
     },
     "execution_count": 26,
     "metadata": {},
     "output_type": "execute_result"
    }
   ],
   "source": [
    "len(opioid_deleteblank_DeathCounty)"
   ]
  },
  {
   "cell_type": "markdown",
   "metadata": {},
   "source": [
    "Isolate Geocode from \"DeathCityGeo\" to only include Lat/Long"
   ]
  },
  {
   "cell_type": "code",
   "execution_count": 27,
   "metadata": {},
   "outputs": [
    {
     "name": "stdout",
     "output_type": "stream",
     "text": [
      "0          BOROUGH, CT\\n(41.077925, -73.216497)\n",
      "1           Norwalk, CT\\n(41.11805, -73.412906)\n",
      "4        Greenwich, CT\\n(41.026526, -73.628549)\n",
      "5          BRISTOL, CT\\n(41.673037, -72.945791)\n",
      "6    WEST HARTFORD, CT\\n(41.762008, -72.741807)\n",
      "Name: DeathCityGeo, dtype: object\n"
     ]
    },
    {
     "name": "stderr",
     "output_type": "stream",
     "text": [
      "/Users/ryanbaxter/anaconda3/envs/PythonData/lib/python3.6/site-packages/ipykernel_launcher.py:2: SettingWithCopyWarning: \n",
      "A value is trying to be set on a copy of a slice from a DataFrame.\n",
      "Try using .loc[row_indexer,col_indexer] = value instead\n",
      "\n",
      "See the caveats in the documentation: http://pandas.pydata.org/pandas-docs/stable/indexing.html#indexing-view-versus-copy\n",
      "  \n"
     ]
    }
   ],
   "source": [
    "opioid_geoloc = opioid_deleteblank_DeathCounty\n",
    "opioid_geoloc['DeathCityGeo'] = opioid_geoloc['DeathCityGeo'].astype(str)\n",
    "print(opioid_geoloc['DeathCityGeo'].head())"
   ]
  },
  {
   "cell_type": "markdown",
   "metadata": {},
   "source": [
    "opioid_geoloc['CleanDeathCityGeo'] = opioid_geoloc['DeathCityGeo'].str.extract(pat = '([0-9])')\n",
    "print(opioid_geoloc['CleanDeathCityGeo'].head())"
   ]
  },
  {
   "cell_type": "code",
   "execution_count": 56,
   "metadata": {},
   "outputs": [
    {
     "name": "stdout",
     "output_type": "stream",
     "text": [
      "                     0                       1\n",
      "0        BOROUGH, CT\\n  41.077925, -73.216497)\n",
      "1        Norwalk, CT\\n   41.11805, -73.412906)\n",
      "4      Greenwich, CT\\n  41.026526, -73.628549)\n",
      "5        BRISTOL, CT\\n  41.673037, -72.945791)\n",
      "6  WEST HARTFORD, CT\\n  41.762008, -72.741807)\n"
     ]
    }
   ],
   "source": [
    "# opioid_geoloc['CleanDeathCityGeo'] = opioid_geoloc['DeathCityGeo'].str.extract(pat = '([0-9])')\n",
    "\n",
    "CleanDeathCityGeo = opioid_geoloc['DeathCityGeo'].str.split(r'(', n=1, expand=True)\n",
    "print(CleanDeathCityGeo.head())\n",
    "\n"
   ]
  },
  {
   "cell_type": "code",
   "execution_count": 57,
   "metadata": {},
   "outputs": [
    {
     "name": "stdout",
     "output_type": "stream",
     "text": [
      "                     0                      1\n",
      "0        BOROUGH, CT\\n  41.077925, -73.216497\n",
      "1        Norwalk, CT\\n   41.11805, -73.412906\n",
      "4      Greenwich, CT\\n  41.026526, -73.628549\n",
      "5        BRISTOL, CT\\n  41.673037, -72.945791\n",
      "6  WEST HARTFORD, CT\\n  41.762008, -72.741807\n"
     ]
    }
   ],
   "source": [
    "CleanDeathCityGeo[1] = CleanDeathCityGeo[1].str.replace(')', '', regex=False)\n",
    "print(CleanDeathCityGeo.head())"
   ]
  },
  {
   "cell_type": "code",
   "execution_count": 58,
   "metadata": {},
   "outputs": [
    {
     "name": "stdout",
     "output_type": "stream",
     "text": [
      "                       1\n",
      "0  41.077925, -73.216497\n",
      "1   41.11805, -73.412906\n",
      "4  41.026526, -73.628549\n",
      "5  41.673037, -72.945791\n",
      "6  41.762008, -72.741807\n"
     ]
    }
   ],
   "source": [
    "CleanDeathCityGeo = CleanDeathCityGeo.drop(CleanDeathCityGeo.columns[0],axis=1)\n",
    "print(CleanDeathCityGeo.head())"
   ]
  },
  {
   "cell_type": "code",
   "execution_count": 64,
   "metadata": {},
   "outputs": [
    {
     "name": "stderr",
     "output_type": "stream",
     "text": [
      "/Users/ryanbaxter/anaconda3/envs/PythonData/lib/python3.6/site-packages/ipykernel_launcher.py:2: SettingWithCopyWarning: \n",
      "A value is trying to be set on a copy of a slice from a DataFrame.\n",
      "Try using .loc[row_indexer,col_indexer] = value instead\n",
      "\n",
      "See the caveats in the documentation: http://pandas.pydata.org/pandas-docs/stable/indexing.html#indexing-view-versus-copy\n",
      "  \n"
     ]
    },
    {
     "data": {
      "text/html": [
       "<div>\n",
       "<style scoped>\n",
       "    .dataframe tbody tr th:only-of-type {\n",
       "        vertical-align: middle;\n",
       "    }\n",
       "\n",
       "    .dataframe tbody tr th {\n",
       "        vertical-align: top;\n",
       "    }\n",
       "\n",
       "    .dataframe thead th {\n",
       "        text-align: right;\n",
       "    }\n",
       "</style>\n",
       "<table border=\"1\" class=\"dataframe\">\n",
       "  <thead>\n",
       "    <tr style=\"text-align: right;\">\n",
       "      <th></th>\n",
       "      <th>ID</th>\n",
       "      <th>Date</th>\n",
       "      <th>DateType</th>\n",
       "      <th>Age</th>\n",
       "      <th>Sex</th>\n",
       "      <th>Race</th>\n",
       "      <th>ResidenceCity</th>\n",
       "      <th>ResidenceCounty</th>\n",
       "      <th>ResidenceState</th>\n",
       "      <th>DeathCity</th>\n",
       "      <th>...</th>\n",
       "      <th>Morphine_NotHeroin</th>\n",
       "      <th>Hydromorphone</th>\n",
       "      <th>Other</th>\n",
       "      <th>OpiateNOS</th>\n",
       "      <th>AnyOpioid</th>\n",
       "      <th>MannerofDeath</th>\n",
       "      <th>DeathCityGeo</th>\n",
       "      <th>ResidenceCityGeo</th>\n",
       "      <th>InjuryCityGeo</th>\n",
       "      <th>CleanDeathCityGeo</th>\n",
       "    </tr>\n",
       "  </thead>\n",
       "  <tbody>\n",
       "    <tr>\n",
       "      <th>0</th>\n",
       "      <td>17-0206</td>\n",
       "      <td>3/10/17 0:00</td>\n",
       "      <td>DateReported</td>\n",
       "      <td>51.0</td>\n",
       "      <td>Male</td>\n",
       "      <td>White</td>\n",
       "      <td>NEW LONDON</td>\n",
       "      <td>NEW LONDON</td>\n",
       "      <td>CT</td>\n",
       "      <td>BOROUGH</td>\n",
       "      <td>...</td>\n",
       "      <td>NaN</td>\n",
       "      <td>NaN</td>\n",
       "      <td>NaN</td>\n",
       "      <td>NaN</td>\n",
       "      <td>NaN</td>\n",
       "      <td>Accident</td>\n",
       "      <td>BOROUGH, CT\\n(41.077925, -73.216497)</td>\n",
       "      <td>NEW LONDON, CT\\n(41.355167, -72.099561)</td>\n",
       "      <td>GROTON, CT\\n(41.343693, -72.07877)</td>\n",
       "      <td>41.077925, -73.216497</td>\n",
       "    </tr>\n",
       "    <tr>\n",
       "      <th>1</th>\n",
       "      <td>13-0102</td>\n",
       "      <td>3/21/13 0:00</td>\n",
       "      <td>DateofDeath</td>\n",
       "      <td>48.0</td>\n",
       "      <td>Male</td>\n",
       "      <td>Black</td>\n",
       "      <td>NORWALK</td>\n",
       "      <td>NaN</td>\n",
       "      <td>NaN</td>\n",
       "      <td>NORWALK</td>\n",
       "      <td>...</td>\n",
       "      <td>NaN</td>\n",
       "      <td>NaN</td>\n",
       "      <td>NaN</td>\n",
       "      <td>NaN</td>\n",
       "      <td>NaN</td>\n",
       "      <td>Accident</td>\n",
       "      <td>Norwalk, CT\\n(41.11805, -73.412906)</td>\n",
       "      <td>NORWALK, CT\\n(41.11805, -73.412906)</td>\n",
       "      <td>CT\\n(41.575155, -72.738288)</td>\n",
       "      <td>41.11805, -73.412906</td>\n",
       "    </tr>\n",
       "    <tr>\n",
       "      <th>4</th>\n",
       "      <td>13-0052</td>\n",
       "      <td>2/13/13 0:00</td>\n",
       "      <td>DateofDeath</td>\n",
       "      <td>22.0</td>\n",
       "      <td>Male</td>\n",
       "      <td>Asian, Other</td>\n",
       "      <td>FLUSHING</td>\n",
       "      <td>QUEENS</td>\n",
       "      <td>NaN</td>\n",
       "      <td>GREENWICH</td>\n",
       "      <td>...</td>\n",
       "      <td>NaN</td>\n",
       "      <td>NaN</td>\n",
       "      <td>NaN</td>\n",
       "      <td>NaN</td>\n",
       "      <td>NaN</td>\n",
       "      <td>Accident</td>\n",
       "      <td>Greenwich, CT\\n(41.026526, -73.628549)</td>\n",
       "      <td>NaN</td>\n",
       "      <td>CT\\n(41.575155, -72.738288)</td>\n",
       "      <td>41.026526, -73.628549</td>\n",
       "    </tr>\n",
       "    <tr>\n",
       "      <th>5</th>\n",
       "      <td>14-0277</td>\n",
       "      <td>6/29/14 0:00</td>\n",
       "      <td>DateofDeath</td>\n",
       "      <td>23.0</td>\n",
       "      <td>Male</td>\n",
       "      <td>White</td>\n",
       "      <td>BRISTOL</td>\n",
       "      <td>NaN</td>\n",
       "      <td>NaN</td>\n",
       "      <td>BRISTOL</td>\n",
       "      <td>...</td>\n",
       "      <td>NaN</td>\n",
       "      <td>NaN</td>\n",
       "      <td>NaN</td>\n",
       "      <td>NaN</td>\n",
       "      <td>NaN</td>\n",
       "      <td>Accident</td>\n",
       "      <td>BRISTOL, CT\\n(41.673037, -72.945791)</td>\n",
       "      <td>BRISTOL, CT\\n(41.673037, -72.945791)</td>\n",
       "      <td>CT\\n(41.575155, -72.738288)</td>\n",
       "      <td>41.673037, -72.945791</td>\n",
       "    </tr>\n",
       "    <tr>\n",
       "      <th>6</th>\n",
       "      <td>12-0205</td>\n",
       "      <td>8/12/12 0:00</td>\n",
       "      <td>DateofDeath</td>\n",
       "      <td>21.0</td>\n",
       "      <td>Female</td>\n",
       "      <td>White</td>\n",
       "      <td>WEST HARTFORD</td>\n",
       "      <td>HARTFORD</td>\n",
       "      <td>NaN</td>\n",
       "      <td>WEST HARTFORD</td>\n",
       "      <td>...</td>\n",
       "      <td>NaN</td>\n",
       "      <td>NaN</td>\n",
       "      <td>NaN</td>\n",
       "      <td>NaN</td>\n",
       "      <td>NaN</td>\n",
       "      <td>Accident</td>\n",
       "      <td>WEST HARTFORD, CT\\n(41.762008, -72.741807)</td>\n",
       "      <td>WEST HARTFORD, CT\\n(41.762008, -72.741807)</td>\n",
       "      <td>CT\\n(41.575155, -72.738288)</td>\n",
       "      <td>41.762008, -72.741807</td>\n",
       "    </tr>\n",
       "  </tbody>\n",
       "</table>\n",
       "<p>5 rows × 42 columns</p>\n",
       "</div>"
      ],
      "text/plain": [
       "        ID          Date      DateType   Age     Sex          Race  \\\n",
       "0  17-0206  3/10/17 0:00  DateReported  51.0    Male         White   \n",
       "1  13-0102  3/21/13 0:00   DateofDeath  48.0    Male         Black   \n",
       "4  13-0052  2/13/13 0:00   DateofDeath  22.0    Male  Asian, Other   \n",
       "5  14-0277  6/29/14 0:00   DateofDeath  23.0    Male         White   \n",
       "6  12-0205  8/12/12 0:00   DateofDeath  21.0  Female         White   \n",
       "\n",
       "   ResidenceCity ResidenceCounty ResidenceState      DeathCity  ...  \\\n",
       "0     NEW LONDON      NEW LONDON             CT        BOROUGH  ...   \n",
       "1        NORWALK             NaN            NaN        NORWALK  ...   \n",
       "4       FLUSHING          QUEENS            NaN      GREENWICH  ...   \n",
       "5        BRISTOL             NaN            NaN        BRISTOL  ...   \n",
       "6  WEST HARTFORD        HARTFORD            NaN  WEST HARTFORD  ...   \n",
       "\n",
       "  Morphine_NotHeroin Hydromorphone Other OpiateNOS AnyOpioid MannerofDeath  \\\n",
       "0                NaN           NaN   NaN       NaN       NaN      Accident   \n",
       "1                NaN           NaN   NaN       NaN       NaN      Accident   \n",
       "4                NaN           NaN   NaN       NaN       NaN      Accident   \n",
       "5                NaN           NaN   NaN       NaN       NaN      Accident   \n",
       "6                NaN           NaN   NaN       NaN       NaN      Accident   \n",
       "\n",
       "                                 DeathCityGeo  \\\n",
       "0        BOROUGH, CT\\n(41.077925, -73.216497)   \n",
       "1         Norwalk, CT\\n(41.11805, -73.412906)   \n",
       "4      Greenwich, CT\\n(41.026526, -73.628549)   \n",
       "5        BRISTOL, CT\\n(41.673037, -72.945791)   \n",
       "6  WEST HARTFORD, CT\\n(41.762008, -72.741807)   \n",
       "\n",
       "                             ResidenceCityGeo  \\\n",
       "0     NEW LONDON, CT\\n(41.355167, -72.099561)   \n",
       "1         NORWALK, CT\\n(41.11805, -73.412906)   \n",
       "4                                         NaN   \n",
       "5        BRISTOL, CT\\n(41.673037, -72.945791)   \n",
       "6  WEST HARTFORD, CT\\n(41.762008, -72.741807)   \n",
       "\n",
       "                        InjuryCityGeo      CleanDeathCityGeo  \n",
       "0  GROTON, CT\\n(41.343693, -72.07877)  41.077925, -73.216497  \n",
       "1         CT\\n(41.575155, -72.738288)   41.11805, -73.412906  \n",
       "4         CT\\n(41.575155, -72.738288)  41.026526, -73.628549  \n",
       "5         CT\\n(41.575155, -72.738288)  41.673037, -72.945791  \n",
       "6         CT\\n(41.575155, -72.738288)  41.762008, -72.741807  \n",
       "\n",
       "[5 rows x 42 columns]"
      ]
     },
     "execution_count": 64,
     "metadata": {},
     "output_type": "execute_result"
    }
   ],
   "source": [
    "opioid_export = opioid_geoloc\n",
    "opioid_export['CleanDeathCityGeo'] = CleanDeathCityGeo[1]\n",
    "opioid_export.head()"
   ]
  },
  {
   "cell_type": "code",
   "execution_count": 65,
   "metadata": {
    "scrolled": true
   },
   "outputs": [
    {
     "data": {
      "text/plain": [
       "ID                      object\n",
       "Date                    object\n",
       "DateType                object\n",
       "Age                    float64\n",
       "Sex                     object\n",
       "Race                    object\n",
       "ResidenceCity           object\n",
       "ResidenceCounty         object\n",
       "ResidenceState          object\n",
       "DeathCity               object\n",
       "DeathCounty             object\n",
       "Location                object\n",
       "LocationifOther         object\n",
       "DescriptionofInjury     object\n",
       "InjuryPlace             object\n",
       "InjuryCity              object\n",
       "InjuryCounty            object\n",
       "InjuryState             object\n",
       "COD                     object\n",
       "OtherSignifican         object\n",
       "Heroin                  object\n",
       "Cocaine                 object\n",
       "Fentanyl                object\n",
       "FentanylAnalogue        object\n",
       "Oxycodone               object\n",
       "Oxymorphone             object\n",
       "Ethanol                 object\n",
       "Hydrocodone             object\n",
       "Benzodiazepine          object\n",
       "Methadone               object\n",
       "Amphet                  object\n",
       "Tramad                  object\n",
       "Morphine_NotHeroin      object\n",
       "Hydromorphone           object\n",
       "Other                   object\n",
       "OpiateNOS               object\n",
       "AnyOpioid               object\n",
       "MannerofDeath           object\n",
       "DeathCityGeo            object\n",
       "ResidenceCityGeo        object\n",
       "InjuryCityGeo           object\n",
       "CleanDeathCityGeo       object\n",
       "dtype: object"
      ]
     },
     "execution_count": 65,
     "metadata": {},
     "output_type": "execute_result"
    }
   ],
   "source": [
    "opioid_export.dtypes"
   ]
  },
  {
   "cell_type": "code",
   "execution_count": 66,
   "metadata": {},
   "outputs": [],
   "source": [
    "opioid_export.to_csv(r'ConnecticutAccidentalDeath.csv', encoding='utf-8', index=False, header=True, )"
   ]
  },
  {
   "cell_type": "code",
   "execution_count": null,
   "metadata": {},
   "outputs": [],
   "source": []
  }
 ],
 "metadata": {
  "kernelspec": {
   "display_name": "Python 3",
   "language": "python",
   "name": "python3"
  },
  "language_info": {
   "codemirror_mode": {
    "name": "ipython",
    "version": 3
   },
   "file_extension": ".py",
   "mimetype": "text/x-python",
   "name": "python",
   "nbconvert_exporter": "python",
   "pygments_lexer": "ipython3",
   "version": "3.6.8"
  }
 },
 "nbformat": 4,
 "nbformat_minor": 2
}
